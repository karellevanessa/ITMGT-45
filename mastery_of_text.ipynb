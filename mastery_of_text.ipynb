{
 "cells": [
  {
   "cell_type": "code",
   "execution_count": 1,
   "id": "24d1ec16-9a76-4e55-b819-f0322900534c",
   "metadata": {},
   "outputs": [
    {
     "name": "stdout",
     "output_type": "stream",
     "text": [
      "Number of lines: 99968\n",
      "Number of words: 795227\n",
      "Occurrences of 'apostle': 47\n",
      "Most common word: the with count: 64309\n"
     ]
    }
   ],
   "source": [
    "\n",
    "import urllib.request\n",
    "import re\n",
    "from collections import Counter\n",
    "\n",
    "url = \"https://www.gutenberg.org/cache/epub/10/pg10.txt\"\n",
    "response = urllib.request.urlopen(url)\n",
    "pg10 = response.read().decode(\"utf-8\")\n",
    "\n",
    "num_lines = len(pg10.splitlines())\n",
    "print(\"Number of lines:\", num_lines)\n",
    "\n",
    "words = re.findall(r\"[A-Za-z]+\", pg10)\n",
    "num_words = len(words)\n",
    "print(\"Number of words:\", num_words)\n",
    "\n",
    "apostle_count = sum(1 for w in words if w.lower() == \"apostle\")\n",
    "print(\"Occurrences of 'apostle':\", apostle_count)\n",
    "\n",
    "word_counts = Counter(w.lower() for w in words)\n",
    "most_common_word, most_common_count = word_counts.most_common(1)[0]\n",
    "print(\"Most common word:\", most_common_word, \"with count:\", most_common_count)"
   ]
  },
  {
   "cell_type": "code",
   "execution_count": null,
   "id": "1286fd85-c245-467d-a51d-2c16a1e8ef26",
   "metadata": {
    "jupyter": {
     "source_hidden": true
    }
   },
   "outputs": [],
   "source": []
  }
 ],
 "metadata": {
  "kernelspec": {
   "display_name": "Python [conda env:base] *",
   "language": "python",
   "name": "conda-base-py"
  },
  "language_info": {
   "codemirror_mode": {
    "name": "ipython",
    "version": 3
   },
   "file_extension": ".py",
   "mimetype": "text/x-python",
   "name": "python",
   "nbconvert_exporter": "python",
   "pygments_lexer": "ipython3",
   "version": "3.13.5"
  }
 },
 "nbformat": 4,
 "nbformat_minor": 5
}
